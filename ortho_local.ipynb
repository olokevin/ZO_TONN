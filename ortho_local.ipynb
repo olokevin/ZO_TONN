{
 "cells": [
  {
   "cell_type": "markdown",
   "metadata": {
    "id": "N9HKwdDrYXAP"
   },
   "source": [
    "# **Load Dataset**"
   ]
  },
  {
   "cell_type": "code",
   "execution_count": 8,
   "metadata": {
    "colab": {
     "base_uri": "https://localhost:8080/"
    },
    "executionInfo": {
     "elapsed": 12568,
     "status": "ok",
     "timestamp": 1671402295079,
     "user": {
      "displayName": "赵业权",
      "userId": "15926883842834523025"
     },
     "user_tz": 480
    },
    "id": "vF4q9gu8XvFa",
    "outputId": "bb249f6e-5a96-41a2-b906-7808b06dae5b"
   },
   "outputs": [
    {
     "name": "stdout",
     "output_type": "stream",
     "text": [
      "Shape of X [N, C, H, W]: torch.Size([64, 1, 28, 28])\n",
      "Shape of y: torch.Size([64]) torch.int64\n"
     ]
    }
   ],
   "source": [
    "# add path\n",
    "import os,sys; \n",
    "sys.path.append('./tensor_layers')\n",
    "sys.path.insert(0, '..')\n",
    "\n",
    "# Load Dataset\n",
    "import torch\n",
    "from torch import nn\n",
    "from torch.utils.data import DataLoader\n",
    "from torch.autograd import Variable\n",
    "from torchvision import datasets\n",
    "from torchvision.transforms import ToTensor\n",
    "\n",
    "from sklearn.metrics import accuracy_score, precision_recall_fscore_support, f1_score\n",
    "import torch.nn.functional as F\n",
    "import torch.optim as optim\n",
    "import numpy as np\n",
    "from torch.optim.lr_scheduler import StepLR\n",
    "from utils import train,test,get_net,OrthoTONN\n",
    "import time\n",
    "\n",
    "# Enable this and writer ovject to track metrics during training\n",
    "from torch.utils.tensorboard import SummaryWriter \n",
    "\n",
    "DTYPE = torch.FloatTensor\n",
    "LONG = torch.LongTensor\n",
    "\n",
    "# Download training data from open datasets.\n",
    "training_data = datasets.MNIST(\n",
    "    root=\"data\",\n",
    "    train=True,\n",
    "    download=True,\n",
    "    transform=ToTensor(),\n",
    ")\n",
    "\n",
    "# Download test data from open datasets.\n",
    "test_data = datasets.MNIST(\n",
    "    root=\"data\",\n",
    "    train=False,\n",
    "    download=True,\n",
    "    transform=ToTensor(),\n",
    ")\n",
    "\n",
    "batch_size = 64\n",
    "\n",
    "# Create data loaders.\n",
    "train_dataloader = DataLoader(training_data, batch_size=batch_size)\n",
    "test_dataloader = DataLoader(test_data, batch_size=batch_size)\n",
    "\n",
    "for X, y in test_dataloader:\n",
    "    print(f\"Shape of X [N, C, H, W]: {X.shape}\")\n",
    "    print(f\"Shape of y: {y.shape} {y.dtype}\")\n",
    "    break"
   ]
  },
  {
   "cell_type": "markdown",
   "metadata": {
    "id": "i491uYQXZ9Sw"
   },
   "source": [
    "# Training Params"
   ]
  },
  {
   "cell_type": "code",
   "execution_count": 9,
   "metadata": {
    "id": "RhPI4yzgLXal"
   },
   "outputs": [],
   "source": [
    "# Training parameters\n",
    "epochs = 10\n",
    "model_path_dir = './tt_models/'\n",
    "\n",
    "patience = 10\n",
    "\n",
    "factor_lr = 0.003\n",
    "lr = 0.001\n",
    "\n",
    "r = 8\n",
    "batch_sz = 64\n",
    "decay = 0.001\n",
    "cuda = 1\n",
    "\n",
    "device = torch.device('cuda:0' if torch.cuda.is_available() else 'cpu')\n",
    "dtype = torch.float32\n",
    "\n",
    "complete = True\n",
    "curr_patience = patience"
   ]
  },
  {
   "cell_type": "markdown",
   "metadata": {
    "id": "JNBkXWefLXan"
   },
   "source": [
    "## Model Structure Test"
   ]
  },
  {
   "cell_type": "code",
   "execution_count": 16,
   "metadata": {
    "id": "6rCl3IMeLXaq",
    "scrolled": false
   },
   "outputs": [
    {
     "data": {
      "text/plain": [
       "OrthoTONN(\n",
       "  (dropout): Dropout(p=0.5, inplace=False)\n",
       "  (fc1): TensorizedLinear(\n",
       "    in_features=784, out_features=1024, bias=False\n",
       "    (tensor): TensorTrainMatrix(\n",
       "      (trainable_variables): ParameterList(\n",
       "          (0): Parameter containing: [torch.FloatTensor of size 1x4x4x2]\n",
       "          (1): Parameter containing: [torch.FloatTensor of size 2x7x8x2]\n",
       "          (2): Parameter containing: [torch.FloatTensor of size 2x7x8x2]\n",
       "          (3): Parameter containing: [torch.FloatTensor of size 2x4x4x1]\n",
       "          (4): Parameter containing: [torch.FloatTensor of size 1x4x4x2]\n",
       "          (5): Parameter containing: [torch.FloatTensor of size 2x7x8x2]\n",
       "          (6): Parameter containing: [torch.FloatTensor of size 2x7x8x2]\n",
       "          (7): Parameter containing: [torch.FloatTensor of size 2x4x4x1]\n",
       "          (8): Parameter containing: [torch.FloatTensor of size 2]\n",
       "          (9): Parameter containing: [torch.FloatTensor of size 2]\n",
       "          (10): Parameter containing: [torch.FloatTensor of size 2]\n",
       "      )\n",
       "    )\n",
       "  )\n",
       "  (fc2): TensorizedLinear(\n",
       "    in_features=1024, out_features=10, bias=False\n",
       "    (tensor): TensorTrainMatrix(\n",
       "      (trainable_variables): ParameterList(\n",
       "          (0): Parameter containing: [torch.FloatTensor of size 1x4x1x2]\n",
       "          (1): Parameter containing: [torch.FloatTensor of size 2x8x5x2]\n",
       "          (2): Parameter containing: [torch.FloatTensor of size 2x8x2x2]\n",
       "          (3): Parameter containing: [torch.FloatTensor of size 2x4x1x1]\n",
       "          (4): Parameter containing: [torch.FloatTensor of size 1x4x1x2]\n",
       "          (5): Parameter containing: [torch.FloatTensor of size 2x8x5x2]\n",
       "          (6): Parameter containing: [torch.FloatTensor of size 2x8x2x2]\n",
       "          (7): Parameter containing: [torch.FloatTensor of size 2x4x1x1]\n",
       "          (8): Parameter containing: [torch.FloatTensor of size 2]\n",
       "          (9): Parameter containing: [torch.FloatTensor of size 2]\n",
       "          (10): Parameter containing: [torch.FloatTensor of size 2]\n",
       "      )\n",
       "    )\n",
       "  )\n",
       "  (relu): ReLU()\n",
       ")"
      ]
     },
     "execution_count": 16,
     "metadata": {},
     "output_type": "execute_result"
    }
   ],
   "source": [
    "#def __init__(self,tensor_type,max_rank,dropouts=0.5,prior_type='log_uniform',device=None,dtype=None):\n",
    "model = OrthoTONN(tensor_type='TensorTrainMatrix',max_rank=2,dropouts=0.5,prior_type='log_uniform',eta=1.0,device=device,dtype=dtype)\n",
    "model"
   ]
  },
  {
   "cell_type": "code",
   "execution_count": null,
   "metadata": {
    "id": "sr0124kfq4jZ"
   },
   "outputs": [],
   "source": [
    "# Open tensorboard\n",
    "%load_ext tensorboard\n",
    "%tensorboard --logdir=tt_runs"
   ]
  },
  {
   "cell_type": "markdown",
   "metadata": {
    "id": "kKRziaeFLXar"
   },
   "source": [
    "## Training Loop"
   ]
  },
  {
   "cell_type": "code",
   "execution_count": 10,
   "metadata": {
    "id": "f0xVRtDDbrIE"
   },
   "outputs": [],
   "source": [
    "signiture = 'MNIST'\n",
    "output_dim = 10\n",
    "\n",
    "max_rank = 2\n",
    "max_rank_list = [2,4,8,10,20]\n",
    "max_rank_list = [4]\n",
    "run = 1\n",
    "# runs = 2"
   ]
  },
  {
   "cell_type": "code",
   "execution_count": 13,
   "metadata": {
    "id": "vKJRnvRDLXar"
   },
   "outputs": [
    {
     "name": "stdout",
     "output_type": "stream",
     "text": [
      "Temp location for models: ./tt_models/model_MNIST_4_1.pt\n",
      "Epoch 0 complete! Average Training loss: 0.9904296639283499\n",
      "Validation loss is: 0.36663719880580903\n",
      "Accuracy score is 0.8942078025477707\n",
      "F1-score is 0.8933782245865438\n",
      "Found new best model, saving to disk...\n",
      "Epoch 1 complete! Average Training loss: 0.534040156976382\n",
      "Validation loss is: 0.2880606528520584\n",
      "Accuracy score is 0.916202229299363\n",
      "F1-score is 0.9154574772541343\n",
      "Found new best model, saving to disk...\n",
      "Epoch 2 complete! Average Training loss: 0.4508840109586716\n",
      "Validation loss is: 0.24896067473888397\n",
      "Accuracy score is 0.9270501592356688\n",
      "F1-score is 0.9262492608723443\n",
      "Found new best model, saving to disk...\n",
      "Epoch 3 complete! Average Training loss: 0.40093127624193825\n",
      "Validation loss is: 0.2261153151035309\n",
      "Accuracy score is 0.9336186305732485\n",
      "F1-score is 0.9330336514699196\n",
      "Found new best model, saving to disk...\n",
      "Epoch 4 complete! Average Training loss: 0.3636346802512805\n",
      "Validation loss is: 0.20610321423113345\n",
      "Accuracy score is 0.9389928343949044\n",
      "F1-score is 0.9386421898612806\n",
      "Found new best model, saving to disk...\n",
      "Epoch 5 complete! Average Training loss: 0.3382686674316724\n",
      "Validation loss is: 0.18965016030967236\n",
      "Accuracy score is 0.9444665605095541\n",
      "F1-score is 0.944157019583982\n",
      "Found new best model, saving to disk...\n",
      "Epoch 6 complete! Average Training loss: 0.3158399274905523\n",
      "Validation loss is: 0.17964801611602307\n",
      "Accuracy score is 0.9469546178343949\n",
      "F1-score is 0.9467195304204766\n",
      "Found new best model, saving to disk...\n",
      "Epoch 7 complete! Average Training loss: 0.3032412446300189\n",
      "Validation loss is: 0.17120505470037461\n",
      "Accuracy score is 0.947452229299363\n",
      "F1-score is 0.9471215760179527\n",
      "Found new best model, saving to disk...\n",
      "Epoch 8 complete! Average Training loss: 0.28905540478626884\n",
      "Validation loss is: 0.165959673422575\n",
      "Accuracy score is 0.948546974522293\n",
      "F1-score is 0.9481783254092697\n",
      "Found new best model, saving to disk...\n",
      "Epoch 9 complete! Average Training loss: 0.28206561685403186\n",
      "Validation loss is: 0.15950749341249465\n",
      "Accuracy score is 0.9523288216560509\n",
      "F1-score is 0.9519383123508302\n",
      "Found new best model, saving to disk...\n"
     ]
    }
   ],
   "source": [
    "for max_rank in max_rank_list:\n",
    "#  for run in range(runs):\n",
    "\n",
    "  model_path = os.path.join(model_path_dir, \"model_{}_{}_{}.pt\".format(signiture,max_rank,run))\n",
    "  print(\"Temp location for models: {}\".format(model_path))\n",
    "  os.makedirs(os.path.dirname(model_path), exist_ok=True)\n",
    "  best_valid_acc = 0\n",
    "  best_valid_loss = float('inf')\n",
    "  model = OrthoTONN(tensor_type='TensorTrainMatrix',max_rank=max_rank,dropouts=0.5,prior_type='log_uniform',eta=1.0, device=device,dtype=dtype)\n",
    "  if cuda == 1:\n",
    "      model = model.cuda()\n",
    "      DTYPE = torch.cuda.FloatTensor\n",
    "      LONG = torch.cuda.LongTensor\n",
    "\n",
    "  # criterion = nn.CrossEntropyLoss(reduction='sum') \n",
    "  # factors = list(model.parameters())[:3]\n",
    "  # other = list(model.parameters())[3:]\n",
    "  # optimizer = optim.Adam([{\"params\": factors, \"lr\": factor_lr}, {\"params\": other, \"lr\": lr}], weight_decay=decay)\n",
    "\n",
    "  criterion = nn.CrossEntropyLoss(reduction='sum') \n",
    "  optimizer = optim.Adam(list(model.parameters()), lr, weight_decay=decay)\n",
    "  scheduler = optim.lr_scheduler.ReduceLROnPlateau(optimizer, mode='min', factor=0.1, patience=5)    # 3\n",
    "\n",
    "  comment = f'rank = {max_rank} run = {run}'\n",
    "  writer = SummaryWriter(comment=comment, log_dir='./tt_runs')\n",
    "\n",
    "  for e in range(epochs):\n",
    "    # TRAIN\n",
    "    size = len(train_dataloader.dataset)\n",
    "    model.train()\n",
    "    model.zero_grad()\n",
    "    avg_train_loss = 0.0\n",
    "\n",
    "    for batch, (X, y) in enumerate(train_dataloader):\n",
    "      X, y = X.to(device), y.to(device)\n",
    "\n",
    "      # Compute prediction error\n",
    "      pred = model(X)\n",
    "      loss = criterion(pred, y)\n",
    "\n",
    "      # Backpropagation\n",
    "      optimizer.zero_grad()\n",
    "      loss.backward()\n",
    "      avg_train_loss += loss.data.item()\n",
    "      optimizer.step()\n",
    "    \n",
    "    # len(training_data) = len(train_dataloader.dataset) -- how many samples\n",
    "    # len(train_dataloader) -- how many batches\n",
    "    avg_train_loss = avg_train_loss / len(training_data)  # average over whole training dataset\n",
    "    print(\"Epoch {} complete! Average Training loss: {}\".format(e, avg_train_loss))\n",
    "    writer.add_scalar(\"Avg Train Loss\", avg_train_loss, e)\n",
    "\n",
    "    # Terminate the training process if run into NaN\n",
    "    if np.isnan(avg_train_loss):\n",
    "        print(\"Training got into NaN values...\\n\\n\")\n",
    "        complete = False\n",
    "        break\n",
    "    \n",
    "    #Valid/Test\n",
    "    size = len(test_dataloader.dataset)\n",
    "    num_batches = len(test_dataloader)\n",
    "    model.eval()\n",
    "    test_loss, acc_score, f1 = 0, 0, 0\n",
    "    avg_valid_loss = 0.0\n",
    "    with torch.no_grad():\n",
    "      for X, y in test_dataloader:\n",
    "        X, y = X.to(device), y.to(device)\n",
    "        pred = model(X)\n",
    "        avg_valid_loss += criterion(pred, y).item()\n",
    "        \n",
    "        # y itself is true label\n",
    "        all_true_label = y.cpu().data\n",
    "        all_predicted_label = pred.argmax(1).cpu().data\n",
    "        acc_score += accuracy_score(all_true_label, all_predicted_label)\n",
    "        f1 += f1_score(all_true_label, all_predicted_label, average='weighted')\n",
    "\n",
    "        # argmax will eliminate this dimension!\n",
    "        # correct += (pred.argmax(1) == y).type(torch.float).sum().item()\n",
    "\n",
    "    # in every iteration, the loss of the batch is summed up. actual loss should divide dataset size\n",
    "    avg_valid_loss = avg_valid_loss / len(test_data)  # average over whole validation dataset\n",
    "    print(\"Validation loss is: {}\".format(avg_valid_loss))\n",
    "    writer.add_scalar(\"Avg Valid Loss\", avg_valid_loss, e)\n",
    "\n",
    "    if np.isnan(avg_valid_loss):\n",
    "      print(\"Training got into NaN values...\\n\\n\")\n",
    "      complete = False\n",
    "      break\n",
    "\n",
    "    # score is calculated every batch\n",
    "    acc_score /= num_batches\n",
    "    f1 /= num_batches\n",
    "\n",
    "    print(\"Accuracy score is {}\".format(acc_score))\n",
    "    print(\"F1-score is {}\".format(f1))\n",
    "    \n",
    "    if (avg_valid_loss < best_valid_loss):\n",
    "        curr_patience = patience\n",
    "        best_valid_loss = avg_valid_loss\n",
    "        torch.save(model, model_path)\n",
    "        print(\"Found new best model, saving to disk...\")\n",
    "    else:\n",
    "        curr_patience -= 1\n",
    "    \n",
    "    if curr_patience <= 0:\n",
    "        break\n",
    "        "
   ]
  },
  {
   "cell_type": "code",
   "execution_count": null,
   "metadata": {
    "id": "SJZ71IPsF-2V"
   },
   "outputs": [],
   "source": [
    "X = torch.reshape(X,[64,1,28,28])\n",
    "model.eval()\n",
    "X, y = X.to(device), y.to(device)\n",
    "pred = model(X)\n",
    "pred.size(), y.size()"
   ]
  },
  {
   "cell_type": "code",
   "execution_count": null,
   "metadata": {
    "id": "e88ucjmjMvGK"
   },
   "outputs": [],
   "source": [
    "all_true_label = y.cpu().data\n",
    "all_predicted_label = pred.argmax(1).cpu().data\n",
    "print(\"all_true_label is: {}\".format(all_true_label))\n",
    "print(\"all_predicted_label is: {}\".format(all_predicted_label))"
   ]
  },
  {
   "cell_type": "code",
   "execution_count": null,
   "metadata": {
    "id": "lgVd2lUxGUp6"
   },
   "outputs": [],
   "source": [
    "pred.argmax(1).cpu().data.size()"
   ]
  },
  {
   "cell_type": "markdown",
   "metadata": {
    "id": "dkuRLICBLXat"
   },
   "source": [
    "## QR decomp"
   ]
  },
  {
   "cell_type": "code",
   "execution_count": 3,
   "metadata": {
    "id": "7yIlCIiWPXjE"
   },
   "outputs": [
    {
     "ename": "NameError",
     "evalue": "name 'os' is not defined",
     "output_type": "error",
     "traceback": [
      "\u001b[1;31m---------------------------------------------------------------------------\u001b[0m",
      "\u001b[1;31mNameError\u001b[0m                                 Traceback (most recent call last)",
      "\u001b[1;32m~\\AppData\\Local\\Temp/ipykernel_6084/2956079895.py\u001b[0m in \u001b[0;36m<module>\u001b[1;34m\u001b[0m\n\u001b[0;32m      1\u001b[0m \u001b[0mmax_rank\u001b[0m \u001b[1;33m=\u001b[0m \u001b[1;36m2\u001b[0m\u001b[1;33m\u001b[0m\u001b[1;33m\u001b[0m\u001b[0m\n\u001b[0;32m      2\u001b[0m \u001b[0mrun\u001b[0m \u001b[1;33m=\u001b[0m \u001b[1;36m1\u001b[0m\u001b[1;33m\u001b[0m\u001b[1;33m\u001b[0m\u001b[0m\n\u001b[1;32m----> 3\u001b[1;33m \u001b[0mmodel_path\u001b[0m \u001b[1;33m=\u001b[0m \u001b[0mos\u001b[0m\u001b[1;33m.\u001b[0m\u001b[0mpath\u001b[0m\u001b[1;33m.\u001b[0m\u001b[0mjoin\u001b[0m\u001b[1;33m(\u001b[0m\u001b[0mmodel_path_dir\u001b[0m\u001b[1;33m,\u001b[0m \u001b[1;34m\"model_{}_{}_{}.pt\"\u001b[0m\u001b[1;33m.\u001b[0m\u001b[0mformat\u001b[0m\u001b[1;33m(\u001b[0m\u001b[0msigniture\u001b[0m\u001b[1;33m,\u001b[0m\u001b[0mmax_rank\u001b[0m\u001b[1;33m,\u001b[0m\u001b[0mrun\u001b[0m\u001b[1;33m)\u001b[0m\u001b[1;33m)\u001b[0m\u001b[1;33m\u001b[0m\u001b[1;33m\u001b[0m\u001b[0m\n\u001b[0m\u001b[0;32m      4\u001b[0m \u001b[0mbest_model\u001b[0m \u001b[1;33m=\u001b[0m \u001b[0mtorch\u001b[0m\u001b[1;33m.\u001b[0m\u001b[0mload\u001b[0m\u001b[1;33m(\u001b[0m\u001b[0mmodel_path\u001b[0m\u001b[1;33m)\u001b[0m\u001b[1;33m\u001b[0m\u001b[1;33m\u001b[0m\u001b[0m\n\u001b[0;32m      5\u001b[0m \u001b[0mbest_model\u001b[0m\u001b[1;33m.\u001b[0m\u001b[0meval\u001b[0m\u001b[1;33m(\u001b[0m\u001b[1;33m)\u001b[0m\u001b[1;33m\u001b[0m\u001b[1;33m\u001b[0m\u001b[0m\n",
      "\u001b[1;31mNameError\u001b[0m: name 'os' is not defined"
     ]
    }
   ],
   "source": [
    "max_rank = 2\n",
    "run = 1\n",
    "model_path = os.path.join(model_path_dir, \"model_{}_{}_{}.pt\".format(signiture,max_rank,run))\n",
    "best_model = torch.load(model_path)\n",
    "best_model.eval()\n",
    "best_model.to('cpu')"
   ]
  },
  {
   "cell_type": "code",
   "execution_count": null,
   "metadata": {
    "colab": {
     "base_uri": "https://localhost:8080/"
    },
    "executionInfo": {
     "elapsed": 378,
     "status": "ok",
     "timestamp": 1671404507192,
     "user": {
      "displayName": "赵业权",
      "userId": "15926883842834523025"
     },
     "user_tz": 480
    },
    "id": "vyof9bLlXc3_",
    "outputId": "a3cc5299-35f6-4565-fd16-e88d9f9a5c1f"
   },
   "outputs": [
    {
     "data": {
      "text/plain": [
       "torch.Size([2, 7, 8, 2])"
      ]
     },
     "execution_count": 21,
     "metadata": {},
     "output_type": "execute_result"
    }
   ],
   "source": [
    "best_model.fc1.tensor.trainable_variables[2].data.size()"
   ]
  },
  {
   "cell_type": "code",
   "execution_count": null,
   "metadata": {
    "colab": {
     "base_uri": "https://localhost:8080/",
     "height": 241
    },
    "executionInfo": {
     "elapsed": 330,
     "status": "error",
     "timestamp": 1671404175264,
     "user": {
      "displayName": "赵业权",
      "userId": "15926883842834523025"
     },
     "user_tz": 480
    },
    "id": "R8bsRy0hawQH",
    "outputId": "eddf3765-be89-45db-f9e3-72cf197b2bb4"
   },
   "outputs": [
    {
     "ename": "RuntimeError",
     "evalue": "ignored",
     "output_type": "error",
     "traceback": [
      "\u001b[0;31m---------------------------------------------------------------------------\u001b[0m",
      "\u001b[0;31mRuntimeError\u001b[0m                              Traceback (most recent call last)",
      "Cell \u001b[0;32mIn[20], line 10\u001b[0m\n\u001b[1;32m      8\u001b[0m tt_matrix \u001b[38;5;241m=\u001b[39m torch\u001b[38;5;241m.\u001b[39mreshape(tt_core, (size[\u001b[38;5;241m0\u001b[39m]\u001b[38;5;241m*\u001b[39msize[\u001b[38;5;241m1\u001b[39m], size[\u001b[38;5;241m2\u001b[39m]\u001b[38;5;241m*\u001b[39msize[\u001b[38;5;241m3\u001b[39m]))\n\u001b[1;32m      9\u001b[0m \u001b[38;5;28;01mif\u001b[39;00m i_order \u001b[38;5;241m!=\u001b[39m order\u001b[38;5;241m-\u001b[39m\u001b[38;5;241m1\u001b[39m:\n\u001b[0;32m---> 10\u001b[0m   tt_core \u001b[38;5;241m=\u001b[39m \u001b[43mtorch\u001b[49m\u001b[38;5;241;43m.\u001b[39;49m\u001b[43mmatmul\u001b[49m\u001b[43m(\u001b[49m\u001b[43mtt_matrix\u001b[49m\u001b[43m,\u001b[49m\u001b[43m \u001b[49m\u001b[43mL\u001b[49m\u001b[43m)\u001b[49m\n\u001b[1;32m     12\u001b[0m tt_matrix \u001b[38;5;241m=\u001b[39m torch\u001b[38;5;241m.\u001b[39mtranspose(tt_matrix,\u001b[38;5;241m0\u001b[39m,\u001b[38;5;241m1\u001b[39m)\n\u001b[1;32m     13\u001b[0m QT, R \u001b[38;5;241m=\u001b[39m torch\u001b[38;5;241m.\u001b[39mlinalg\u001b[38;5;241m.\u001b[39mqr(tt_matrix, mode\u001b[38;5;241m=\u001b[39m\u001b[38;5;124m\"\u001b[39m\u001b[38;5;124mcomplete\u001b[39m\u001b[38;5;124m\"\u001b[39m)\n",
      "\u001b[0;31mRuntimeError\u001b[0m: mat1 and mat2 shapes cannot be multiplied (14x16 and 8x4)"
     ]
    }
   ],
   "source": [
    "order = best_model.fc1.tensor.order\n",
    "ortho_cores = []\n",
    "\n",
    "for i_order in range(order-1,-1,-1):\n",
    "\n",
    "  tt_core = best_model.fc1.tensor.trainable_variables[i_order].data\n",
    "  size = tt_core.size()\n",
    "  tt_matrix = torch.reshape(tt_core, (size[0]*size[1], size[2]*size[3]))\n",
    "  if i_order != order-1:\n",
    "    tt_core = torch.matmul(tt_matrix, L)\n",
    "  \n",
    "  tt_matrix = torch.transpose(tt_matrix,0,1)\n",
    "  QT, R = torch.linalg.qr(tt_matrix, mode=\"complete\")\n",
    "  L = torch.transpose(R,0,1)\n",
    "  Q = torch.transpose(Q,0,1)\n",
    "  ortho_cores.insert(0,Q)\n",
    "\n",
    "U, S, Vh = torch.linalg.svd(L)\n",
    "ortho_cores.insert(0,Vh)\n",
    "ortho_cores.insert(0,U)"
   ]
  },
  {
   "cell_type": "code",
   "execution_count": null,
   "metadata": {
    "colab": {
     "base_uri": "https://localhost:8080/"
    },
    "executionInfo": {
     "elapsed": 350,
     "status": "ok",
     "timestamp": 1671221552065,
     "user": {
      "displayName": "赵业权",
      "userId": "15926883842834523025"
     },
     "user_tz": 480
    },
    "id": "tR8tzr51hF3s",
    "outputId": "e547deb1-dd48-46fe-d108-e5f3023b22e7"
   },
   "outputs": [
    {
     "name": "stdout",
     "output_type": "stream",
     "text": [
      "torch.Size([8, 4])\n",
      "tensor([[-0.4715,  0.1050,  0.1914, -0.3383,  0.0488,  0.5277, -0.5783,  0.0174],\n",
      "        [-0.2078, -0.1173,  0.4082,  0.5203,  0.2509, -0.4624, -0.4283, -0.2135],\n",
      "        [-0.0342,  0.0886, -0.3271, -0.5492,  0.2030, -0.6334, -0.2971,  0.2273],\n",
      "        [-0.1245,  0.2322,  0.6431, -0.4141, -0.3474, -0.2737,  0.3126, -0.2286]])\n",
      "tensor([[-0.6149, -0.4502, -0.5039, -0.5871],\n",
      "        [ 0.0000,  0.1646,  0.1201,  0.2936],\n",
      "        [ 0.0000,  0.0000, -0.0480, -0.0273],\n",
      "        [ 0.0000,  0.0000,  0.0000, -0.1658]])\n"
     ]
    }
   ],
   "source": [
    "print(tt_matrix.size())\n",
    "print(Q)\n",
    "print(R)"
   ]
  },
  {
   "cell_type": "code",
   "execution_count": null,
   "metadata": {
    "colab": {
     "base_uri": "https://localhost:8080/"
    },
    "executionInfo": {
     "elapsed": 346,
     "status": "ok",
     "timestamp": 1671219876597,
     "user": {
      "displayName": "赵业权",
      "userId": "15926883842834523025"
     },
     "user_tz": 480
    },
    "id": "_g3ndh6Pa-5v",
    "outputId": "89356ee7-5b06-4eff-cdbd-eb9f46e6a82c"
   },
   "outputs": [
    {
     "name": "stdout",
     "output_type": "stream",
     "text": [
      "3\n",
      "2\n",
      "1\n",
      "0\n"
     ]
    }
   ],
   "source": [
    "from .interferometer import interferometer as itf \n",
    "Q = ortho_cores[-1]\n",
    "I = itf.square_decomposition(Q)\n",
    "I.draw()"
   ]
  },
  {
   "cell_type": "markdown",
   "metadata": {},
   "source": [
    "## SVD"
   ]
  },
  {
   "cell_type": "code",
   "execution_count": 11,
   "metadata": {},
   "outputs": [
    {
     "data": {
      "text/plain": [
       "OrthoTONN(\n",
       "  (dropout): Dropout(p=0.5, inplace=False)\n",
       "  (fc1): TensorizedLinear(\n",
       "    in_features=784, out_features=1024, bias=False\n",
       "    (tensor): TensorTrainMatrix(\n",
       "      (trainable_variables): ParameterList(\n",
       "          (0): Parameter containing: [torch.FloatTensor of size 1x4x4x2]\n",
       "          (1): Parameter containing: [torch.FloatTensor of size 2x7x8x2]\n",
       "          (2): Parameter containing: [torch.FloatTensor of size 2x7x8x2]\n",
       "          (3): Parameter containing: [torch.FloatTensor of size 2x4x4x1]\n",
       "          (4): Parameter containing: [torch.FloatTensor of size 1x4x4x2]\n",
       "          (5): Parameter containing: [torch.FloatTensor of size 2x7x8x2]\n",
       "          (6): Parameter containing: [torch.FloatTensor of size 2x7x8x2]\n",
       "          (7): Parameter containing: [torch.FloatTensor of size 2x4x4x1]\n",
       "          (8): Parameter containing: [torch.FloatTensor of size 2]\n",
       "          (9): Parameter containing: [torch.FloatTensor of size 2]\n",
       "          (10): Parameter containing: [torch.FloatTensor of size 2]\n",
       "      )\n",
       "    )\n",
       "  )\n",
       "  (fc2): TensorizedLinear(\n",
       "    in_features=1024, out_features=10, bias=False\n",
       "    (tensor): TensorTrainMatrix(\n",
       "      (trainable_variables): ParameterList(\n",
       "          (0): Parameter containing: [torch.FloatTensor of size 1x4x1x2]\n",
       "          (1): Parameter containing: [torch.FloatTensor of size 2x8x5x2]\n",
       "          (2): Parameter containing: [torch.FloatTensor of size 2x8x2x2]\n",
       "          (3): Parameter containing: [torch.FloatTensor of size 2x4x1x1]\n",
       "          (4): Parameter containing: [torch.FloatTensor of size 1x4x1x2]\n",
       "          (5): Parameter containing: [torch.FloatTensor of size 2x8x5x2]\n",
       "          (6): Parameter containing: [torch.FloatTensor of size 2x8x2x2]\n",
       "          (7): Parameter containing: [torch.FloatTensor of size 2x4x1x1]\n",
       "          (8): Parameter containing: [torch.FloatTensor of size 2]\n",
       "          (9): Parameter containing: [torch.FloatTensor of size 2]\n",
       "          (10): Parameter containing: [torch.FloatTensor of size 2]\n",
       "      )\n",
       "    )\n",
       "  )\n",
       "  (relu): ReLU()\n",
       ")"
      ]
     },
     "execution_count": 11,
     "metadata": {},
     "output_type": "execute_result"
    }
   ],
   "source": [
    "max_rank = 2\n",
    "run = 1\n",
    "model_path = os.path.join(model_path_dir, \"model_{}_{}_{}.pt\".format(signiture,max_rank,run))\n",
    "best_model = torch.load(model_path)\n",
    "best_model.eval()\n",
    "best_model.to('cpu')"
   ]
  },
  {
   "cell_type": "code",
   "execution_count": 23,
   "metadata": {},
   "outputs": [
    {
     "data": {
      "image/png": "[encoded data removed]",
      "text/plain": [
       "<Figure size 432x288 with 1 Axes>"
      ]
     },
     "metadata": {
      "needs_background": "light"
     },
     "output_type": "display_data"
    }
   ],
   "source": [
    "import interferometer as itf\n",
    "\n",
    "tt_core = best_model.fc1.tensor.trainable_variables[3].data\n",
    "size = tt_core.size()\n",
    "tt_matrix = torch.reshape(tt_core, (size[0]*size[1], size[2]*size[3]))\n",
    "\n",
    "U, S, Vh = torch.linalg.svd(tt_matrix)\n",
    "# inf requires numpy array\n",
    "U = U.numpy()\n",
    "I = itf.square_decomposition(U)\n",
    "I.draw()"
   ]
  },
  {
   "cell_type": "code",
   "execution_count": 42,
   "metadata": {},
   "outputs": [],
   "source": [
    "U = tt_matrix.numpy()\n",
    "U2 = np.power(U,2)\n",
    "U2_row = np.sum(U2,axis=0)\n",
    "U2_col = np.sum(U2,axis=1)"
   ]
  },
  {
   "cell_type": "code",
   "execution_count": 44,
   "metadata": {},
   "outputs": [
    {
     "data": {
      "text/plain": [
       "array([1.6180354, 1.0419817, 1.0265269, 2.5757833], dtype=float32)"
      ]
     },
     "execution_count": 44,
     "metadata": {},
     "output_type": "execute_result"
    }
   ],
   "source": [
    "U2_row"
   ]
  },
  {
   "cell_type": "markdown",
   "metadata": {},
   "source": [
    "## Eval best model"
   ]
  },
  {
   "cell_type": "code",
   "execution_count": null,
   "metadata": {
    "id": "YRyJNmLZLXat"
   },
   "outputs": [],
   "source": [
    "def eval_at_model_path(model_path, test_iterator):\n",
    "  best_model = torch.load(model_path)\n",
    "  best_model.eval()\n",
    "  best_model.to(device)\n",
    "\n",
    "  #Valid/Test\n",
    "  size = len(test_iterator.dataset)\n",
    "  num_batches = len(test_iterator)\n",
    "  test_loss, acc_score, f1 = 0, 0, 0\n",
    "  avg_valid_loss = 0.0\n",
    "  with torch.no_grad():\n",
    "    for X, y in test_iterator:\n",
    "      X, y = X.to(device), y.to(device)\n",
    "      pred = best_model(X)\n",
    "      \n",
    "      # y itself is true label\n",
    "      all_true_label = y.cpu().data\n",
    "      all_predicted_label = pred.argmax(1).cpu().data\n",
    "      acc_score += accuracy_score(all_true_label, all_predicted_label)\n",
    "      f1 += f1_score(all_true_label, all_predicted_label, average='weighted')\n",
    "\n",
    "  # score is calculated every batch\n",
    "  acc_score /= num_batches\n",
    "  f1 /= num_batches\n",
    "  print(\"Accuracy score is {}\".format(acc_score))\n",
    "  print(\"F1-score is {}\".format(f1))\n",
    "\n",
    "  return acc_score"
   ]
  },
  {
   "cell_type": "code",
   "execution_count": null,
   "metadata": {
    "colab": {
     "base_uri": "https://localhost:8080/"
    },
    "executionInfo": {
     "elapsed": 4320,
     "status": "ok",
     "timestamp": 1671222715616,
     "user": {
      "displayName": "赵业权",
      "userId": "15926883842834523025"
     },
     "user_tz": 480
    },
    "id": "pc1f5LMXLXau",
    "outputId": "ee063b27-9bc3-43f5-da6c-54b6be8c657f"
   },
   "outputs": [
    {
     "name": "stdout",
     "output_type": "stream",
     "text": [
      "./tt_models/model_MNIST_2_1.pt\n",
      "Accuracy score is 0.9357085987261147\n",
      "F1-score is 0.9351699481399507\n",
      "-------------\n",
      "./tt_models/model_MNIST_4_1.pt\n",
      "Accuracy score is 0.962281050955414\n",
      "F1-score is 0.9619681106624476\n",
      "-------------\n",
      "./tt_models/model_MNIST_8_1.pt\n",
      "Accuracy score is 0.9735270700636943\n",
      "F1-score is 0.9733664613900941\n",
      "-------------\n"
     ]
    }
   ],
   "source": [
    "best_model_path = 0\n",
    "best_acc = 0\n",
    "for max_rank in max_rank_list:\n",
    "#  for run in range(runs):\n",
    "  model_path = os.path.join(model_path_dir, \"model_{}_{}_{}.pt\".format(signiture,max_rank,run))\n",
    "  print(model_path)\n",
    "  acc = eval_at_model_path(model_path, test_dataloader)\n",
    "  print(\"-------------\")\n",
    "  if acc > best_acc:\n",
    "      best_acc = acc\n",
    "      best_model_path = model_path"
   ]
  }
 ],
 "metadata": {
  "accelerator": "GPU",
  "colab": {
   "provenance": [
    {
     "file_id": "https://gist.github.com/ngrislain/c3ba6f687c64ce31adc6b0dff1b26d6a#file-py38-success-ipynb",
     "timestamp": 1666743016140
    }
   ]
  },
  "gpuClass": "standard",
  "kernelspec": {
   "display_name": "Python 3",
   "language": "python",
   "name": "python3"
  },
  "language_info": {
   "codemirror_mode": {
    "name": "ipython",
    "version": 3
   },
   "file_extension": ".py",
   "mimetype": "text/x-python",
   "name": "python",
   "nbconvert_exporter": "python",
   "pygments_lexer": "ipython3",
   "version": "3.8.10 (tags/v3.8.10:3d8993a, May  3 2021, 11:48:03) [MSC v.1928 64 bit (AMD64)]"
  },
  "varInspector": {
   "cols": {
    "lenName": 16,
    "lenType": 16,
    "lenVar": 40
   },
   "kernels_config": {
    "python": {
     "delete_cmd_postfix": "",
     "delete_cmd_prefix": "del ",
     "library": "var_list.py",
     "varRefreshCmd": "print(var_dic_list())"
    },
    "r": {
     "delete_cmd_postfix": ") ",
     "delete_cmd_prefix": "rm(",
     "library": "var_list.r",
     "varRefreshCmd": "cat(var_dic_list()) "
    }
   },
   "oldHeight": 251.85199999999998,
   "position": {
    "height": "273.852px",
    "left": "867px",
    "right": "20px",
    "top": "111px",
    "width": "343px"
   },
   "types_to_exclude": [
    "module",
    "function",
    "builtin_function_or_method",
    "instance",
    "_Feature"
   ],
   "varInspector_section_display": "block",
   "window_display": true
  },
  "vscode": {
   "interpreter": {
    "hash": "974ffed621293f6434237143286b974229d9bf43fbc3513b5e70ff6d64f4e9bf"
   }
  }
 },
 "nbformat": 4,
 "nbformat_minor": 1
}
